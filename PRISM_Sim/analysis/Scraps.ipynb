{
 "cells": [
  {
   "cell_type": "markdown",
   "metadata": {},
   "source": [
    "### Variance of image (mlem and acorr)\n",
    "\n",
    "This needs to be reworked, currently I am calculating the variance in the intensities, which does not tell us anything useful. We want to deterine the variance of the distribution in space, not intensity. Do we sort the images into distance from true and so some sort of intesity weighted square deviation as a function of distance?"
   ]
  },
  {
   "cell_type": "code",
   "execution_count": 1,
   "metadata": {
    "collapsed": false
   },
   "outputs": [
    {
     "ename": "NameError",
     "evalue": "name 'recon' is not defined",
     "output_type": "error",
     "traceback": [
      "\u001b[0;31m---------------------------------------------------------------------------\u001b[0m",
      "\u001b[0;31mNameError\u001b[0m                                 Traceback (most recent call last)",
      "\u001b[0;32m<ipython-input-1-e220a5a9e127>\u001b[0m in \u001b[0;36m<module>\u001b[0;34m()\u001b[0m\n\u001b[1;32m      7\u001b[0m \u001b[0;34m\u001b[0m\u001b[0m\n\u001b[1;32m      8\u001b[0m \u001b[0;32mif\u001b[0m \u001b[0mchoice\u001b[0m \u001b[0;34m==\u001b[0m \u001b[0;34m\"none\"\u001b[0m\u001b[0;34m:\u001b[0m\u001b[0;34m\u001b[0m\u001b[0m\n\u001b[0;32m----> 9\u001b[0;31m     \u001b[0m_im\u001b[0m    \u001b[0;34m=\u001b[0m \u001b[0mrecon\u001b[0m\u001b[0;34m\u001b[0m\u001b[0m\n\u001b[0m\u001b[1;32m     10\u001b[0m     \u001b[0m_acorr\u001b[0m \u001b[0;34m=\u001b[0m \u001b[0mautocorr\u001b[0m\u001b[0;34m\u001b[0m\u001b[0m\n\u001b[1;32m     11\u001b[0m     \u001b[0m_S\u001b[0m     \u001b[0;34m=\u001b[0m \u001b[0mS\u001b[0m\u001b[0;34m\u001b[0m\u001b[0m\n",
      "\u001b[0;31mNameError\u001b[0m: name 'recon' is not defined"
     ]
    }
   ],
   "source": [
    "nside = 16\n",
    "\n",
    "# Choose no DOI, inner, or outer\n",
    "choice = \"none\"\n",
    "#choice = \"inner\"\n",
    "#choice = \"outer\"\n",
    "\n",
    "if choice == \"none\":\n",
    "    _im    = recon\n",
    "    _acorr = autocorr\n",
    "    _S     = S\n",
    "elif choice == \"inner\":\n",
    "    _im    = recon_inner\n",
    "    _acorr = autocorr_inner\n",
    "    _S     = S_inner\n",
    "elif choice == \"outer\":\n",
    "    _im    = recon_outer\n",
    "    _acorr = autocorr_outer\n",
    "    _S     = S_outer\n",
    "\n",
    "# Calculate variance of each row in the total image matrices   \n",
    "mlem_image_var = _im.var(axis=1)\n",
    "acorr_image_var = (_acorr/_S).var(axis=1)    # sensitivity corrected\n",
    "\n",
    "plt.figure(20)\n",
    "hp.mollview(mlem_image_var, fig=20, sub=221, title=\"MLEM Image variance (DOI - %s)\" % choice)\n",
    "hp.mollview(acorr_image_var, fig=20, sub=223, title=\"*ACorr* Image variance (DOI - %s)\" % choice)\n",
    "plt.subplot(222)\n",
    "plt.plot(mlem_image_var)\n",
    "plt.title(\"MLEM Image variance (DOI - %s)\" % choice)\n",
    "plt.xlabel(\"Source Angle (HP Index)\")\n",
    "plt.subplot(224)\n",
    "plt.plot(acorr_image_var)\n",
    "plt.title(\"*ACorr* Image variance (DOI - %s)\" % choice)\n",
    "plt.xlabel(\"Source Angle (HP Index)\")\n",
    "plt.show()\n"
   ]
  },
  {
   "cell_type": "markdown",
   "metadata": {},
   "source": [
    "### Higher moments (skewness, kurtosis)\n",
    "\n",
    "Skewness is the third central moment, it is a measure of the lopsidedness of a distribution. If symmetric, it will be equal to zero. If negative, the distirbution is more weighted to the right (higher HP index). If positive, the distribution in more weighted to the left (lower HP index).\n",
    "\n",
    "Kurtosis is the fourth central moment, it is a measure of the heaviness of the tail of the distribution compared to the normal distribution. Heavy tails will have high kurtosis. \n",
    "\n",
    "... again this is calculating the moments of the intensity data, where we want to calculate the moments of the intensity weighted spatial data..."
   ]
  },
  {
   "cell_type": "code",
   "execution_count": 2,
   "metadata": {
    "collapsed": false
   },
   "outputs": [
    {
     "ename": "NameError",
     "evalue": "name 'recon' is not defined",
     "output_type": "error",
     "traceback": [
      "\u001b[0;31m---------------------------------------------------------------------------\u001b[0m",
      "\u001b[0;31mNameError\u001b[0m                                 Traceback (most recent call last)",
      "\u001b[0;32m<ipython-input-2-615a96d71e50>\u001b[0m in \u001b[0;36m<module>\u001b[0;34m()\u001b[0m\n\u001b[1;32m     10\u001b[0m \u001b[0;34m\u001b[0m\u001b[0m\n\u001b[1;32m     11\u001b[0m \u001b[0;32mif\u001b[0m \u001b[0mchoice\u001b[0m \u001b[0;34m==\u001b[0m \u001b[0;34m\"none\"\u001b[0m\u001b[0;34m:\u001b[0m\u001b[0;34m\u001b[0m\u001b[0m\n\u001b[0;32m---> 12\u001b[0;31m     \u001b[0m_im\u001b[0m    \u001b[0;34m=\u001b[0m \u001b[0mrecon\u001b[0m\u001b[0;34m\u001b[0m\u001b[0m\n\u001b[0m\u001b[1;32m     13\u001b[0m     \u001b[0m_acorr\u001b[0m \u001b[0;34m=\u001b[0m \u001b[0mautocorr\u001b[0m\u001b[0;34m\u001b[0m\u001b[0m\n\u001b[1;32m     14\u001b[0m     \u001b[0m_S\u001b[0m     \u001b[0;34m=\u001b[0m \u001b[0mS\u001b[0m\u001b[0;34m\u001b[0m\u001b[0m\n",
      "\u001b[0;31mNameError\u001b[0m: name 'recon' is not defined"
     ]
    }
   ],
   "source": [
    "import scipy as scipy\n",
    "from scipy import stats\n",
    "\n",
    "nside = 16\n",
    "\n",
    "# Choose no DOI, inner, or outer\n",
    "choice = \"none\"\n",
    "#choice = \"inner\"\n",
    "#choice = \"outer\"\n",
    "\n",
    "if choice == \"none\":\n",
    "    _im    = recon\n",
    "    _acorr = autocorr\n",
    "    _S     = S\n",
    "elif choice == \"inner\":\n",
    "    _im    = recon_inner\n",
    "    _acorr = autocorr_inner\n",
    "    _S     = S_inner\n",
    "elif choice == \"outer\":\n",
    "    _im    = recon_outer\n",
    "    _acorr = autocorr_outer\n",
    "    _S     = S_outer\n",
    "\n",
    "# Calculate variance of each row in the total image matrices   \n",
    "mlem_image_skew = scipy.stats.skew(_im,axis=1)\n",
    "acorr_image_skew = scipy.stats.skew(_acorr/_S,axis=1)    # sensitivity corrected\n",
    "\n",
    "plt.figure(21)\n",
    "hp.mollview(mlem_image_skew, fig=21, sub=221, title=\"MLEM Image skewness (DOI - %s)\" % choice)\n",
    "hp.mollview(acorr_image_skew, fig=21, sub=223, title=\"*ACorr* Image skewness (DOI - %s)\" % choice)\n",
    "plt.subplot(222)\n",
    "plt.plot(mlem_image_skew)\n",
    "plt.title(\"MLEM Image skewness (DOI - %s)\" % choice)\n",
    "plt.xlabel(\"Source Angle (HP Index)\")\n",
    "plt.subplot(224)\n",
    "plt.plot(acorr_image_skew)\n",
    "plt.title(\"*ACorr* Image skewness (DOI - %s)\" % choice)\n",
    "plt.xlabel(\"Source Angle (HP Index)\")\n",
    "plt.show()"
   ]
  },
  {
   "cell_type": "code",
   "execution_count": 3,
   "metadata": {
    "collapsed": false
   },
   "outputs": [
    {
     "ename": "NameError",
     "evalue": "name 'recon' is not defined",
     "output_type": "error",
     "traceback": [
      "\u001b[0;31m---------------------------------------------------------------------------\u001b[0m",
      "\u001b[0;31mNameError\u001b[0m                                 Traceback (most recent call last)",
      "\u001b[0;32m<ipython-input-3-5f0e314cb1af>\u001b[0m in \u001b[0;36m<module>\u001b[0;34m()\u001b[0m\n\u001b[1;32m     10\u001b[0m \u001b[0;34m\u001b[0m\u001b[0m\n\u001b[1;32m     11\u001b[0m \u001b[0;32mif\u001b[0m \u001b[0mchoice\u001b[0m \u001b[0;34m==\u001b[0m \u001b[0;34m\"none\"\u001b[0m\u001b[0;34m:\u001b[0m\u001b[0;34m\u001b[0m\u001b[0m\n\u001b[0;32m---> 12\u001b[0;31m     \u001b[0m_im\u001b[0m    \u001b[0;34m=\u001b[0m \u001b[0mrecon\u001b[0m\u001b[0;34m\u001b[0m\u001b[0m\n\u001b[0m\u001b[1;32m     13\u001b[0m     \u001b[0m_acorr\u001b[0m \u001b[0;34m=\u001b[0m \u001b[0mautocorr\u001b[0m\u001b[0;34m\u001b[0m\u001b[0m\n\u001b[1;32m     14\u001b[0m     \u001b[0m_S\u001b[0m     \u001b[0;34m=\u001b[0m \u001b[0mS\u001b[0m\u001b[0;34m\u001b[0m\u001b[0m\n",
      "\u001b[0;31mNameError\u001b[0m: name 'recon' is not defined"
     ]
    }
   ],
   "source": [
    "import scipy as scipy\n",
    "from scipy import stats\n",
    "\n",
    "nside = 16\n",
    "\n",
    "# Choose no DOI, inner, or outer\n",
    "choice = \"none\"\n",
    "#choice = \"inner\"\n",
    "#choice = \"outer\"\n",
    "\n",
    "if choice == \"none\":\n",
    "    _im    = recon\n",
    "    _acorr = autocorr\n",
    "    _S     = S\n",
    "elif choice == \"inner\":\n",
    "    _im    = recon_inner\n",
    "    _acorr = autocorr_inner\n",
    "    _S     = S_inner\n",
    "elif choice == \"outer\":\n",
    "    _im    = recon_outer\n",
    "    _acorr = autocorr_outer\n",
    "    _S     = S_outer\n",
    "\n",
    "# Calculate variance of each row in the total image matrices   \n",
    "mlem_image_kurtosis = scipy.stats.kurtosis(_im,axis=1)\n",
    "acorr_image_kurtosis = scipy.stats.kurtosis(_acorr/_S,axis=1)    # sensitivity corrected\n",
    "\n",
    "plt.figure(22)\n",
    "hp.mollview(mlem_image_kurtosis, fig=22, sub=221, title=\"MLEM Image kurtosis (DOI - %s)\" % choice)\n",
    "hp.mollview(acorr_image_kurtosis, fig=22, sub=223, title=\"*ACorr* Image kurtosis (DOI - %s)\" % choice)\n",
    "plt.subplot(222)\n",
    "plt.plot(mlem_image_kurtosis)\n",
    "plt.title(\"MLEM Image kurtosis (DOI - %s)\" % choice)\n",
    "plt.xlabel(\"Source Angle (HP Index)\")\n",
    "plt.subplot(224)\n",
    "plt.plot(acorr_image_kurtosis)\n",
    "plt.title(\"*ACorr* Image kurtosis (DOI - %s)\" % choice)\n",
    "plt.xlabel(\"Source Angle (HP Index)\")\n",
    "plt.show()"
   ]
  },
  {
   "cell_type": "markdown",
   "metadata": {},
   "source": [
    "### Fourier transform\n",
    "\n",
    "In this example we add three sine functions together, one with a frequency component of 50, one with 80, and one with 120, all with descreasing amplitude. We plot this function. And then we plot the Fourier transform, whichs picks out the three frequency components and their relative amplitudes."
   ]
  },
  {
   "cell_type": "code",
   "execution_count": 4,
   "metadata": {
    "collapsed": false
   },
   "outputs": [
    {
     "ename": "NameError",
     "evalue": "name 'np' is not defined",
     "output_type": "error",
     "traceback": [
      "\u001b[0;31m---------------------------------------------------------------------------\u001b[0m",
      "\u001b[0;31mNameError\u001b[0m                                 Traceback (most recent call last)",
      "\u001b[0;32m<ipython-input-4-d4d819312fa8>\u001b[0m in \u001b[0;36m<module>\u001b[0;34m()\u001b[0m\n\u001b[1;32m      4\u001b[0m \u001b[0mN\u001b[0m \u001b[0;34m=\u001b[0m \u001b[0;36m1000\u001b[0m\u001b[0;34m\u001b[0m\u001b[0m\n\u001b[1;32m      5\u001b[0m \u001b[0;34m\u001b[0m\u001b[0m\n\u001b[0;32m----> 6\u001b[0;31m \u001b[0mx\u001b[0m \u001b[0;34m=\u001b[0m \u001b[0mnp\u001b[0m\u001b[0;34m.\u001b[0m\u001b[0mlinspace\u001b[0m\u001b[0;34m(\u001b[0m\u001b[0;36m0.0\u001b[0m\u001b[0;34m,\u001b[0m \u001b[0;36m1\u001b[0m\u001b[0;34m,\u001b[0m \u001b[0mN\u001b[0m\u001b[0;34m)\u001b[0m\u001b[0;34m\u001b[0m\u001b[0m\n\u001b[0m\u001b[1;32m      7\u001b[0m \u001b[0my\u001b[0m \u001b[0;34m=\u001b[0m \u001b[0mnp\u001b[0m\u001b[0;34m.\u001b[0m\u001b[0msin\u001b[0m\u001b[0;34m(\u001b[0m\u001b[0;36m50.0\u001b[0m\u001b[0;34m*\u001b[0m\u001b[0mnp\u001b[0m\u001b[0;34m.\u001b[0m\u001b[0mpi\u001b[0m\u001b[0;34m*\u001b[0m\u001b[0mx\u001b[0m\u001b[0;34m)\u001b[0m \u001b[0;34m+\u001b[0m \u001b[0;36m0.5\u001b[0m\u001b[0;34m*\u001b[0m\u001b[0mnp\u001b[0m\u001b[0;34m.\u001b[0m\u001b[0msin\u001b[0m\u001b[0;34m(\u001b[0m\u001b[0;36m80.0\u001b[0m\u001b[0;34m*\u001b[0m\u001b[0mnp\u001b[0m\u001b[0;34m.\u001b[0m\u001b[0mpi\u001b[0m\u001b[0;34m*\u001b[0m\u001b[0mx\u001b[0m\u001b[0;34m)\u001b[0m \u001b[0;34m+\u001b[0m \u001b[0;36m0.2\u001b[0m\u001b[0;34m*\u001b[0m\u001b[0mnp\u001b[0m\u001b[0;34m.\u001b[0m\u001b[0msin\u001b[0m\u001b[0;34m(\u001b[0m\u001b[0;36m120.0\u001b[0m\u001b[0;34m*\u001b[0m\u001b[0mnp\u001b[0m\u001b[0;34m.\u001b[0m\u001b[0mpi\u001b[0m\u001b[0;34m*\u001b[0m\u001b[0mx\u001b[0m\u001b[0;34m)\u001b[0m\u001b[0;34m\u001b[0m\u001b[0m\n\u001b[1;32m      8\u001b[0m \u001b[0;34m\u001b[0m\u001b[0m\n",
      "\u001b[0;31mNameError\u001b[0m: name 'np' is not defined"
     ]
    }
   ],
   "source": [
    "from scipy.fftpack import fft\n",
    "\n",
    "# Number of points\n",
    "N = 1000\n",
    "\n",
    "x = np.linspace(0.0, 1, N)\n",
    "y = np.sin(50.0*np.pi*x) + 0.5*np.sin(80.0*np.pi*x) + 0.2*np.sin(120.0*np.pi*x)\n",
    "\n",
    "yf = fft(y)\n",
    "xf = np.linspace(0.0, N, N/2)\n",
    "\n",
    "plt.figure()\n",
    "plt.subplot(211)\n",
    "plt.plot(x,y)\n",
    "axes = plt.gca()\n",
    "axes.set_ylim([-2,2])\n",
    "plt.xlabel(\"Time (time)\")\n",
    "plt.subplot(212)\n",
    "plt.plot(xf, np.abs(yf[0:N/2]))\n",
    "axes = plt.gca()\n",
    "axes.set_xlim([0,200])\n",
    "axes.set_ylim([0,600])\n",
    "plt.xlabel(\"Frequency (time$^{-1}$)\")\n",
    "plt.grid()\n",
    "plt.show()\n"
   ]
  },
  {
   "cell_type": "code",
   "execution_count": null,
   "metadata": {
    "collapsed": true
   },
   "outputs": [],
   "source": []
  }
 ],
 "metadata": {
  "kernelspec": {
   "display_name": "Python [Root]",
   "language": "python",
   "name": "Python [Root]"
  },
  "language_info": {
   "codemirror_mode": {
    "name": "ipython",
    "version": 2
   },
   "file_extension": ".py",
   "mimetype": "text/x-python",
   "name": "python",
   "nbconvert_exporter": "python",
   "pygments_lexer": "ipython2",
   "version": "2.7.11"
  }
 },
 "nbformat": 4,
 "nbformat_minor": 0
}
